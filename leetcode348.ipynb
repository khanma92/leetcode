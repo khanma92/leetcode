{
 "cells": [
  {
   "cell_type": "markdown",
   "metadata": {},
   "source": [
    "2719. Count of Integers\n",
    "\n",
    "You are given two numeric strings num1 and num2 and two integers max_sum and min_sum. We denote an integer x to be good if:\n",
    "\n",
    "num1 <= x <= num2\n",
    "min_sum <= digit_sum(x) <= max_sum.\n",
    "Return the number of good integers. Since the answer may be large, return it modulo 109 + 7.\n",
    "\n",
    "Note that digit_sum(x) denotes the sum of the digits of x."
   ]
  },
  {
   "cell_type": "code",
   "execution_count": 23,
   "metadata": {},
   "outputs": [
    {
     "name": "stdout",
     "output_type": "stream",
     "text": [
      "(11, [1, 2, 3, 4, 5, 6, 7, 8, 10, 11, 12])\n",
      "(5, [1, 2, 3, 4, 5])\n"
     ]
    }
   ],
   "source": [
    "def count(num1: str, num2: str, min_sum: int, max_sum: int) -> int:\n",
    "    count = 0\n",
    "    nums = int(num1)\n",
    "    lst = []\n",
    "    while int(num1) <= nums <= int(num2):\n",
    "        if min_sum <= digit_sum(nums) <= max_sum:\n",
    "            lst.append(nums)\n",
    "            count += 1\n",
    "        nums += 1\n",
    "        \n",
    "    return count, lst\n",
    "\n",
    "\n",
    "def digit_sum(x):\n",
    "    x = str(x)\n",
    "    digs = [int(d) for d in x]\n",
    "    summ = sum(digs)\n",
    "    return summ\n",
    "\n",
    "print(count(\"1\", \"12\", 1, 8))\n",
    "print(count(\"1\", \"5\", 1, 5))\n"
   ]
  },
  {
   "cell_type": "markdown",
   "metadata": {},
   "source": []
  },
  {
   "cell_type": "markdown",
   "metadata": {},
   "source": []
  }
 ],
 "metadata": {
  "interpreter": {
   "hash": "55da166a897955c589cd812d003694f1a25f8799ad4921a260ddff680dbc953d"
  },
  "kernelspec": {
   "display_name": "Python 3.10.0 64-bit",
   "language": "python",
   "name": "python3"
  },
  "language_info": {
   "codemirror_mode": {
    "name": "ipython",
    "version": 3
   },
   "file_extension": ".py",
   "mimetype": "text/x-python",
   "name": "python",
   "nbconvert_exporter": "python",
   "pygments_lexer": "ipython3",
   "version": "3.10.0"
  },
  "orig_nbformat": 4
 },
 "nbformat": 4,
 "nbformat_minor": 2
}
